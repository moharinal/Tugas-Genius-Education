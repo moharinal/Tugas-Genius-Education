{
 "cells": [
  {
   "cell_type": "markdown",
   "id": "2c3ef29b",
   "metadata": {},
   "source": [
    "#### 01 Membuat 2 fungsi def"
   ]
  },
  {
   "cell_type": "markdown",
   "id": "3c627004",
   "metadata": {},
   "source": [
    "##### a"
   ]
  },
  {
   "cell_type": "code",
   "execution_count": 1,
   "id": "485f7038",
   "metadata": {},
   "outputs": [
    {
     "name": "stdout",
     "output_type": "stream",
     "text": [
      "Masukkan nama arinal\n",
      "perkenalkan nama saya arinal, salam kenal\n"
     ]
    }
   ],
   "source": [
    "def sapaan():\n",
    "    x = input(\"Masukkan nama \")\n",
    "    print(\"perkenalkan nama saya \"+ x +\", salam kenal\")\n",
    "sapaan()"
   ]
  },
  {
   "cell_type": "markdown",
   "id": "484e7253",
   "metadata": {},
   "source": [
    "##### b"
   ]
  },
  {
   "cell_type": "code",
   "execution_count": 3,
   "id": "d1ec437e",
   "metadata": {},
   "outputs": [
    {
     "name": "stdout",
     "output_type": "stream",
     "text": [
      "Luas segitiga adalah: 17.5\n"
     ]
    }
   ],
   "source": [
    "def luas_segitiga(alas, tinggi):\n",
    "    luas = (alas*tinggi)/2\n",
    "    return luas\n",
    "soal = luas_segitiga(5, 7)\n",
    "print(\"Luas segitiga adalah: \"+str(soal))"
   ]
  },
  {
   "cell_type": "markdown",
   "id": "348f1090",
   "metadata": {},
   "source": [
    "#### 02 Mencoba perintah import sederhana"
   ]
  },
  {
   "cell_type": "code",
   "execution_count": 4,
   "id": "ee510edb",
   "metadata": {},
   "outputs": [],
   "source": [
    "import csv\n",
    "import pandas\n",
    "import numpy"
   ]
  },
  {
   "cell_type": "markdown",
   "id": "807e3bfa",
   "metadata": {},
   "source": [
    "#### 03"
   ]
  },
  {
   "cell_type": "code",
   "execution_count": 5,
   "id": "a1abde4b",
   "metadata": {},
   "outputs": [
    {
     "name": "stdout",
     "output_type": "stream",
     "text": [
      "Lingkaran dengan jari-jari 14 memiliki keliling 87.92\n"
     ]
    }
   ],
   "source": [
    "def keliling_lingkaran(radius):\n",
    "    keliling = 2 * 3.14 * radius\n",
    "    return keliling\n",
    "\n",
    "r = 14\n",
    "kel = keliling_lingkaran(r)\n",
    "print('Lingkaran dengan jari-jari {} memiliki keliling {}'.format(r,kel))"
   ]
  },
  {
   "cell_type": "markdown",
   "id": "0912eefe",
   "metadata": {},
   "source": [
    "#### 04"
   ]
  },
  {
   "cell_type": "code",
   "execution_count": 11,
   "id": "74a84677",
   "metadata": {},
   "outputs": [
    {
     "name": "stdout",
     "output_type": "stream",
     "text": [
      "Masukkan nilai = 12\n",
      "Hasilnya adalah 14 \n"
     ]
    }
   ],
   "source": [
    "def ceknilai(nilai):\n",
    "    if nilai % 2 == 0 :\n",
    "        nilai += 2\n",
    "    else:\n",
    "        nilai *= 2\n",
    "        \n",
    "    return nilai\n",
    "\n",
    "angka = input(\"Masukkan nilai = \")\n",
    "hasil = ceknilai(int(angka))\n",
    "\n",
    "print(\"Hasilnya adalah {} \".format(hasil))"
   ]
  }
 ],
 "metadata": {
  "kernelspec": {
   "display_name": "Python 3 (ipykernel)",
   "language": "python",
   "name": "python3"
  },
  "language_info": {
   "codemirror_mode": {
    "name": "ipython",
    "version": 3
   },
   "file_extension": ".py",
   "mimetype": "text/x-python",
   "name": "python",
   "nbconvert_exporter": "python",
   "pygments_lexer": "ipython3",
   "version": "3.9.12"
  }
 },
 "nbformat": 4,
 "nbformat_minor": 5
}
