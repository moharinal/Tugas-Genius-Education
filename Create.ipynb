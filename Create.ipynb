{
 "cells": [
  {
   "cell_type": "code",
   "execution_count": 3,
   "id": "936d7a91",
   "metadata": {},
   "outputs": [],
   "source": [
    "def tambah_kontak():\n",
    "    print('')\n",
    "    banyakKontak = int(input('Masukkan banyak kontak: '))\n",
    "    for i in range(banyakKontak):\n",
    "        print('Masukkan kontak ke ke-',i+1)\n",
    "        namaKontak = input('Nama\\t: ')\n",
    "        nomorKontak = int(input('Nomor\\t: '))\n",
    "        kontakBaru = Kontak(namaKontak, nomorKontak)\n",
    "        kontak.append(kontakBaru)\n",
    "        print('')\n",
    "    print('Kontak berhasil ditambahkan!\\n')"
   ]
  }
 ],
 "metadata": {
  "kernelspec": {
   "display_name": "Python 3 (ipykernel)",
   "language": "python",
   "name": "python3"
  },
  "language_info": {
   "codemirror_mode": {
    "name": "ipython",
    "version": 3
   },
   "file_extension": ".py",
   "mimetype": "text/x-python",
   "name": "python",
   "nbconvert_exporter": "python",
   "pygments_lexer": "ipython3",
   "version": "3.9.12"
  }
 },
 "nbformat": 4,
 "nbformat_minor": 5
}
