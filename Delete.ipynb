{
 "cells": [
  {
   "cell_type": "code",
   "execution_count": 1,
   "id": "8c0f1e92",
   "metadata": {},
   "outputs": [],
   "source": [
    "def hapus_kontak():\n",
    "    print('')\n",
    "    if (len(kontak)==0):\n",
    "        print('Kontak Masih Kosong, silahkan menambahkan kontak!')\n",
    "        print('')\n",
    "    else:\n",
    "        hapus = int(input('Masukkan Nomor Urut Kontak: '))\n",
    "        del kontak[hapus-1]\n",
    "        print('')\n",
    "        print(f'Kontak dengan urutan ke-{hapus}, Berhasil di hapus!\\n')"
   ]
  },
  {
   "cell_type": "code",
   "execution_count": null,
   "id": "ac9b9e20",
   "metadata": {},
   "outputs": [],
   "source": []
  }
 ],
 "metadata": {
  "kernelspec": {
   "display_name": "Python 3 (ipykernel)",
   "language": "python",
   "name": "python3"
  },
  "language_info": {
   "codemirror_mode": {
    "name": "ipython",
    "version": 3
   },
   "file_extension": ".py",
   "mimetype": "text/x-python",
   "name": "python",
   "nbconvert_exporter": "python",
   "pygments_lexer": "ipython3",
   "version": "3.9.12"
  }
 },
 "nbformat": 4,
 "nbformat_minor": 5
}
